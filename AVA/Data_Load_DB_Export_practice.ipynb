{
 "cells": [
  {
   "cell_type": "code",
   "execution_count": 15,
   "metadata": {
    "collapsed": true
   },
   "outputs": [],
   "source": [
    "import numpy as np\n",
    "import pandas as pd"
   ]
  },
  {
   "cell_type": "code",
   "execution_count": 16,
   "metadata": {
    "collapsed": false
   },
   "outputs": [],
   "source": [
    "## Read the whole xlsx file\n",
    "my_xls_FY = pd.ExcelFile('AVA_Model_FY_Data_updated.xlsx')"
   ]
  },
  {
   "cell_type": "code",
   "execution_count": 17,
   "metadata": {
    "collapsed": false
   },
   "outputs": [
    {
     "data": {
      "text/plain": [
       "['Basic Info',\n",
       " 'Total Revenue',\n",
       " 'COGS',\n",
       " 'Gross Profit',\n",
       " 'SG&A',\n",
       " 'R&D',\n",
       " 'Total Other OPEX',\n",
       " 'Operating Income',\n",
       " 'EBT',\n",
       " 'EBIT',\n",
       " 'EBITDA',\n",
       " 'Income Taxes',\n",
       " 'NOPAT',\n",
       " 'NOPAT%',\n",
       " 'Cash And Equivalents',\n",
       " 'Total Receivables',\n",
       " 'Short Term Investments',\n",
       " 'Inventory',\n",
       " 'Total Current Assets',\n",
       " 'Net Property, Plant & Equipment',\n",
       " 'Goodwill',\n",
       " 'Total Assets',\n",
       " 'Accounts Payable',\n",
       " 'Total Current Liabilities',\n",
       " 'Long-Term Debt',\n",
       " 'Total Liabilities',\n",
       " 'Total Equity',\n",
       " 'Invested Capital',\n",
       " 'CTR',\n",
       " '_CIQHiddenCacheSheet',\n",
       " 'Total Liabilities And Equity',\n",
       " 'Lookup Tables']"
      ]
     },
     "execution_count": 17,
     "metadata": {},
     "output_type": "execute_result"
    }
   ],
   "source": [
    "## Get all the sheet names using .sheet_names\n",
    "my_sheetnames_FY = my_xls_FY.sheet_names\n",
    "my_sheetnames_FY"
   ]
  },
  {
   "cell_type": "code",
   "execution_count": 18,
   "metadata": {
    "collapsed": false
   },
   "outputs": [],
   "source": [
    "## Remove sheets that won't be used\n",
    "## Only need to run once\n",
    "my_sheetnames_FY.remove('Basic Info')\n",
    "my_sheetnames_FY.remove('_CIQHiddenCacheSheet')\n",
    "my_sheetnames_FY.remove('Lookup Tables')"
   ]
  },
  {
   "cell_type": "code",
   "execution_count": 19,
   "metadata": {
    "collapsed": false
   },
   "outputs": [
    {
     "data": {
      "text/plain": [
       "['Total Revenue',\n",
       " 'COGS',\n",
       " 'Gross Profit',\n",
       " 'SG&A',\n",
       " 'R&D',\n",
       " 'Total Other OPEX',\n",
       " 'Operating Income',\n",
       " 'EBT',\n",
       " 'EBIT',\n",
       " 'EBITDA',\n",
       " 'Income Taxes',\n",
       " 'NOPAT',\n",
       " 'NOPAT%',\n",
       " 'Cash And Equivalents',\n",
       " 'Total Receivables',\n",
       " 'Short Term Investments',\n",
       " 'Inventory',\n",
       " 'Total Current Assets',\n",
       " 'Net Property, Plant & Equipment',\n",
       " 'Goodwill',\n",
       " 'Total Assets',\n",
       " 'Accounts Payable',\n",
       " 'Total Current Liabilities',\n",
       " 'Long-Term Debt',\n",
       " 'Total Liabilities',\n",
       " 'Total Equity',\n",
       " 'Invested Capital',\n",
       " 'CTR',\n",
       " 'Total Liabilities And Equity']"
      ]
     },
     "execution_count": 19,
     "metadata": {},
     "output_type": "execute_result"
    }
   ],
   "source": [
    "my_sheetnames_FY"
   ]
  },
  {
   "cell_type": "code",
   "execution_count": 71,
   "metadata": {
    "collapsed": false
   },
   "outputs": [],
   "source": [
    "total_rev = my_xls_FY.parse('Total Revenue')"
   ]
  },
  {
   "cell_type": "code",
   "execution_count": 52,
   "metadata": {
    "collapsed": false
   },
   "outputs": [],
   "source": [
    "total_rev = total_rev.drop(\"FY2016.1\", 1)"
   ]
  },
  {
   "cell_type": "code",
   "execution_count": 28,
   "metadata": {
    "collapsed": true
   },
   "outputs": [],
   "source": [
    "## Read the whole xlsx grabber file\n",
    "my_grabber_FY = pd.ExcelFile(\"AVA_Model_FY_Data_graber.xlsx\")"
   ]
  },
  {
   "cell_type": "code",
   "execution_count": 70,
   "metadata": {
    "collapsed": false
   },
   "outputs": [],
   "source": [
    "total_rev_grabber = my_grabber_FY.parse(\"Total Revenue\")"
   ]
  },
  {
   "cell_type": "code",
   "execution_count": 55,
   "metadata": {
    "collapsed": false
   },
   "outputs": [],
   "source": [
    "## Get the last col of the grabber file\n",
    "update_col = total_rev_grabber.T.iloc[-1]"
   ]
  },
  {
   "cell_type": "code",
   "execution_count": 56,
   "metadata": {
    "collapsed": false
   },
   "outputs": [
    {
     "data": {
      "text/plain": [
       "26"
      ]
     },
     "execution_count": 56,
     "metadata": {},
     "output_type": "execute_result"
    }
   ],
   "source": [
    "total_rev.columns.get_loc(\"FY2016\")"
   ]
  },
  {
   "cell_type": "code",
   "execution_count": 57,
   "metadata": {
    "collapsed": true
   },
   "outputs": [],
   "source": [
    "total_rev.insert(26, \"FY2015\" ,update_col)"
   ]
  },
  {
   "cell_type": "code",
   "execution_count": 60,
   "metadata": {
    "collapsed": true
   },
   "outputs": [],
   "source": [
    "import sqlite3\n",
    "import sys"
   ]
  },
  {
   "cell_type": "code",
   "execution_count": 67,
   "metadata": {
    "collapsed": false
   },
   "outputs": [
    {
     "name": "stdout",
     "output_type": "stream",
     "text": [
      "Database Connection Established\n"
     ]
    }
   ],
   "source": [
    "FY_conn = sqlite3.connect('AVA_FY.db')\n",
    "print (\"Database Connection Established\")\n",
    "FY_cur = FY_conn.cursor()"
   ]
  },
  {
   "cell_type": "code",
   "execution_count": 69,
   "metadata": {
    "collapsed": false
   },
   "outputs": [
    {
     "name": "stderr",
     "output_type": "stream",
     "text": [
      "C:\\ProgramData\\Anaconda3\\lib\\site-packages\\pandas\\core\\generic.py:1201: UserWarning: The spaces in these column names will not be changed. In pandas versions < 0.14, spaces were converted to underscores.\n",
      "  chunksize=chunksize, dtype=dtype)\n"
     ]
    }
   ],
   "source": [
    "total_rev.to_sql(\"Total Revenue\", FY_conn)"
   ]
  },
  {
   "cell_type": "code",
   "execution_count": 72,
   "metadata": {
    "collapsed": false
   },
   "outputs": [
    {
     "name": "stdout",
     "output_type": "stream",
     "text": [
      "***********************************************\n",
      "Close the Database Connection\n"
     ]
    }
   ],
   "source": [
    "my_xls_FY.close()\n",
    "print(\"***********************************************\")\n",
    "print(\"Close the Database Connection\")"
   ]
  },
  {
   "cell_type": "code",
   "execution_count": null,
   "metadata": {
    "collapsed": true
   },
   "outputs": [],
   "source": []
  }
 ],
 "metadata": {
  "kernelspec": {
   "display_name": "Python 3",
   "language": "python",
   "name": "python3"
  },
  "language_info": {
   "codemirror_mode": {
    "name": "ipython",
    "version": 3
   },
   "file_extension": ".py",
   "mimetype": "text/x-python",
   "name": "python",
   "nbconvert_exporter": "python",
   "pygments_lexer": "ipython3",
   "version": "3.6.0"
  }
 },
 "nbformat": 4,
 "nbformat_minor": 2
}
