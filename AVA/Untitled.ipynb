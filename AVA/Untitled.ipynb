{
 "cells": [
  {
   "cell_type": "markdown",
   "metadata": {},
   "source": [
    "## Economist style\n",
    "http://stackoverflow.com/questions/29859565/create-the-economist-style-graphs-from-python"
   ]
  },
  {
   "cell_type": "code",
   "execution_count": 1,
   "metadata": {
    "collapsed": false
   },
   "outputs": [
    {
     "ename": "FileNotFoundError",
     "evalue": "[Errno 2] No such file or directory: 'bond_yields.txt'",
     "output_type": "error",
     "traceback": [
      "\u001b[0;31m---------------------------------------------------------------------------\u001b[0m",
      "\u001b[0;31mFileNotFoundError\u001b[0m                         Traceback (most recent call last)",
      "\u001b[0;32m<ipython-input-1-de91bf49afa5>\u001b[0m in \u001b[0;36m<module>\u001b[0;34m()\u001b[0m\n\u001b[1;32m     10\u001b[0m                          \u001b[0mconverters\u001b[0m\u001b[1;33m=\u001b[0m\u001b[1;33m{\u001b[0m\u001b[1;36m0\u001b[0m\u001b[1;33m:\u001b[0m \u001b[0mmdates\u001b[0m\u001b[1;33m.\u001b[0m\u001b[0mstrpdate2num\u001b[0m\u001b[1;33m(\u001b[0m\u001b[1;34m'%Y-%m-%d'\u001b[0m\u001b[1;33m)\u001b[0m\u001b[1;33m}\u001b[0m\u001b[1;33m,\u001b[0m\u001b[1;33m\u001b[0m\u001b[0m\n\u001b[1;32m     11\u001b[0m                          dtype = {'names': ('date', 'bond_yield'),\n\u001b[0;32m---> 12\u001b[0;31m                                   'formats': (datetime, float)})\n\u001b[0m\u001b[1;32m     13\u001b[0m bank_deposits = np.loadtxt('bank_deposits.txt',\n\u001b[1;32m     14\u001b[0m                          \u001b[0mconverters\u001b[0m\u001b[1;33m=\u001b[0m\u001b[1;33m{\u001b[0m\u001b[1;36m0\u001b[0m\u001b[1;33m:\u001b[0m \u001b[0mmdates\u001b[0m\u001b[1;33m.\u001b[0m\u001b[0mstrpdate2num\u001b[0m\u001b[1;33m(\u001b[0m\u001b[1;34m'%Y-%m-%d'\u001b[0m\u001b[1;33m)\u001b[0m\u001b[1;33m}\u001b[0m\u001b[1;33m,\u001b[0m\u001b[1;33m\u001b[0m\u001b[0m\n",
      "\u001b[0;32mC:\\PROGRAMDATA\\ANACONDA3\\lib\\site-packages\\numpy\\lib\\npyio.py\u001b[0m in \u001b[0;36mloadtxt\u001b[0;34m(fname, dtype, comments, delimiter, converters, skiprows, usecols, unpack, ndmin)\u001b[0m\n\u001b[1;32m    803\u001b[0m                 \u001b[0mfh\u001b[0m \u001b[1;33m=\u001b[0m \u001b[0miter\u001b[0m\u001b[1;33m(\u001b[0m\u001b[0mopen\u001b[0m\u001b[1;33m(\u001b[0m\u001b[0mfname\u001b[0m\u001b[1;33m,\u001b[0m \u001b[1;34m'U'\u001b[0m\u001b[1;33m)\u001b[0m\u001b[1;33m)\u001b[0m\u001b[1;33m\u001b[0m\u001b[0m\n\u001b[1;32m    804\u001b[0m             \u001b[1;32melse\u001b[0m\u001b[1;33m:\u001b[0m\u001b[1;33m\u001b[0m\u001b[0m\n\u001b[0;32m--> 805\u001b[0;31m                 \u001b[0mfh\u001b[0m \u001b[1;33m=\u001b[0m \u001b[0miter\u001b[0m\u001b[1;33m(\u001b[0m\u001b[0mopen\u001b[0m\u001b[1;33m(\u001b[0m\u001b[0mfname\u001b[0m\u001b[1;33m)\u001b[0m\u001b[1;33m)\u001b[0m\u001b[1;33m\u001b[0m\u001b[0m\n\u001b[0m\u001b[1;32m    806\u001b[0m         \u001b[1;32melse\u001b[0m\u001b[1;33m:\u001b[0m\u001b[1;33m\u001b[0m\u001b[0m\n\u001b[1;32m    807\u001b[0m             \u001b[0mfh\u001b[0m \u001b[1;33m=\u001b[0m \u001b[0miter\u001b[0m\u001b[1;33m(\u001b[0m\u001b[0mfname\u001b[0m\u001b[1;33m)\u001b[0m\u001b[1;33m\u001b[0m\u001b[0m\n",
      "\u001b[0;31mFileNotFoundError\u001b[0m: [Errno 2] No such file or directory: 'bond_yields.txt'"
     ]
    }
   ],
   "source": [
    "# -*- coding: utf-8 -*-\n",
    "import numpy as np\n",
    "import matplotlib.pyplot as plt\n",
    "import matplotlib.dates as mdates\n",
    "import matplotlib.ticker as ticker\n",
    "from datetime import datetime\n",
    "\n",
    "# Load in some sample data\n",
    "bond_yields = np.loadtxt('bond_yields.txt',\n",
    "                         converters={0: mdates.strpdate2num('%Y-%m-%d')},\n",
    "                         dtype = {'names': ('date', 'bond_yield'),\n",
    "                                  'formats': (datetime, float)})\n",
    "bank_deposits = np.loadtxt('bank_deposits.txt',\n",
    "                         converters={0: mdates.strpdate2num('%Y-%m-%d')},\n",
    "                         dtype = {'names': ('date', 'bank_deposits'),\n",
    "                                  'formats': (datetime, float)})\n",
    "\n",
    "# Bond yields line is in light blue, bank deposits line in dark red:\n",
    "bond_yield_color = (0.424, 0.153, 0.090)\n",
    "bank_deposits_color = (0.255, 0.627, 0.843)\n",
    "\n",
    "# Set up a figure, and twin the x-axis so we can have two different y-axes\n",
    "fig = plt.figure(figsize=(8, 4), frameon=False, facecolor='white')\n",
    "ax1 = fig.add_subplot(111)\n",
    "ax2 = ax1.twinx()\n",
    "# Make sure the gridlines don't end up on top of the plotted data\n",
    "ax1.set_axisbelow(True)\n",
    "ax2.set_axisbelow(True)\n",
    "\n",
    "# The light gray, horizontal gridlines\n",
    "ax1.yaxis.grid(True, color='0.65', ls='-', lw=1.5, zorder=0)\n",
    "\n",
    "# Plot the data\n",
    "l1, = ax1.plot(bank_deposits['date'], bank_deposits['bank_deposits'],\n",
    "         c=bank_deposits_color, lw=3.5)\n",
    "l2, = ax2.plot(bond_yields['date'], bond_yields['bond_yield'],\n",
    "         c=bond_yield_color, lw=3.5)\n",
    "\n",
    "# Set the y-tick ranges: chosen so that ax2 labels will match the ax1 gridlines\n",
    "ax1.set_yticks(range(120,280,20))\n",
    "ax2.set_yticks(range(0, 40, 5))\n",
    "\n",
    "# Turn off spines left, top, bottom and right (do it twice because of the twinning)\n",
    "ax1.spines['left'].set_visible(False)\n",
    "ax1.spines['right'].set_visible(False)\n",
    "ax1.spines['top'].set_visible(False)\n",
    "ax2.spines['left'].set_visible(False)\n",
    "ax2.spines['right'].set_visible(False)\n",
    "ax2.spines['top'].set_visible(False)\n",
    "ax1.spines['bottom'].set_visible(False)\n",
    "ax2.spines['bottom'].set_visible(False)\n",
    "# We do want ticks on the bottom x-axis only\n",
    "ax1.xaxis.set_ticks_position('bottom')\n",
    "ax2.xaxis.set_ticks_position('bottom')\n",
    "\n",
    "# Remove ticks from the y-axes\n",
    "ax1.tick_params(axis='y', length=0)\n",
    "ax2.tick_params(axis='y', length=0)\n",
    "\n",
    "# Set tick-labels for the two y-axes in the appropriate colors\n",
    "for tick_label in ax1.yaxis.get_ticklabels():\n",
    "    tick_label.set_fontsize(12)\n",
    "    tick_label.set_color(bank_deposits_color)\n",
    "for tick_label in ax2.yaxis.get_ticklabels():\n",
    "    tick_label.set_fontsize(12)\n",
    "    tick_label.set_color(bond_yield_color)\n",
    "\n",
    "# Set the x-axis tick marks to two-digit years\n",
    "ax1.xaxis.set_major_locator(mdates.YearLocator())\n",
    "ax1.xaxis.set_major_formatter(mdates.DateFormatter('%y'))\n",
    "\n",
    "# Tweak the x-axis tick label sizes\n",
    "for tick in ax1.xaxis.get_major_ticks():\n",
    "    tick.label.set_fontsize(12)\n",
    "    tick.label.set_horizontalalignment('center')\n",
    "\n",
    "# Lengthen the bottom x-ticks and set them to dark gray\n",
    "ax1.tick_params(direction='in', axis='x', length=7, color='0.1')\n",
    "\n",
    "# Add the line legends as annotations\n",
    "ax1.annotate(u'private-sector bank deposits, €bn', xy=(0.09, 0.95),\n",
    "             xycoords='figure fraction', size=12, color=bank_deposits_color,\n",
    "             fontstyle='italic')\n",
    "ax2.annotate(u'ten-year government bond yield, %', xy=(0.6, 0.95),\n",
    "             xycoords='figure fraction', size=12, color=bond_yield_color,\n",
    "             fontstyle='italic')\n",
    "\n",
    "# Add an annotation at the date of the first bail-out. relpos=(0,0) ensures\n",
    "# that the label lines up on the right of a vertical line\n",
    "first_bailout_date = datetime.strptime('2010-05-02', '%Y-%m-%d')\n",
    "xpos = mdates.date2num(first_bailout_date)\n",
    "ax1.annotate(u'FIRST BAIL-OUT', xy=(xpos, 120), xytext=(xpos, 250), color='r',\n",
    "             arrowprops=dict(arrowstyle='-', edgecolor='r', ls='dashed',\n",
    "             relpos=(0,0)), fontsize=9, fontstyle='italic')\n",
    "\n",
    "fig.savefig('fig.png', facecolor=fig.get_facecolor(), edgecolor='none')"
   ]
  },
  {
   "cell_type": "code",
   "execution_count": null,
   "metadata": {
    "collapsed": true
   },
   "outputs": [],
   "source": []
  }
 ],
 "metadata": {
  "kernelspec": {
   "display_name": "Python 3",
   "language": "python",
   "name": "python3"
  },
  "language_info": {
   "codemirror_mode": {
    "name": "ipython",
    "version": 3
   },
   "file_extension": ".py",
   "mimetype": "text/x-python",
   "name": "python",
   "nbconvert_exporter": "python",
   "pygments_lexer": "ipython3",
   "version": "3.6.0"
  }
 },
 "nbformat": 4,
 "nbformat_minor": 2
}
