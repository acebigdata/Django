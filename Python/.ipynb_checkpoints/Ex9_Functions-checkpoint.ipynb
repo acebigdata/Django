{
 "cells": [
  {
   "cell_type": "code",
   "execution_count": 64,
   "metadata": {
    "collapsed": false
   },
   "outputs": [],
   "source": [
    "#####################\n",
    "## -- PROBLEM 1 -- ##\n",
    "#####################\n",
    "\n",
    "# Given a list of integers, return True if the sequence of numbers 1, 2, 3\n",
    "# appears in the list somewhere.\n",
    "\n",
    "# For example:\n",
    "\n",
    "# arrayCheck([1, 1, 2, 3, 1]) → True\n",
    "# arrayCheck([1, 1, 2, 4, 1]) → False\n",
    "# arrayCheck([1, 1, 2, 1, 2, 3]) → True\n",
    "\n",
    "def arrayCheck(nums):\n",
    "    \n",
    "    for num in nums:\n",
    "        if num != 1 and num != 2 and num != 3:\n",
    "            return False\n",
    "            break\n",
    "        else:\n",
    "            return True"
   ]
  },
  {
   "cell_type": "code",
   "execution_count": 65,
   "metadata": {
    "collapsed": false
   },
   "outputs": [
    {
     "data": {
      "text/plain": [
       "True"
      ]
     },
     "execution_count": 65,
     "metadata": {},
     "output_type": "execute_result"
    }
   ],
   "source": [
    "arrayCheck([1, 1, 2, 3, 1])"
   ]
  },
  {
   "cell_type": "code",
   "execution_count": 66,
   "metadata": {
    "collapsed": false
   },
   "outputs": [
    {
     "data": {
      "text/plain": [
       "True"
      ]
     },
     "execution_count": 66,
     "metadata": {},
     "output_type": "execute_result"
    }
   ],
   "source": [
    "arrayCheck([1,4])"
   ]
  },
  {
   "cell_type": "code",
   "execution_count": null,
   "metadata": {
    "collapsed": true
   },
   "outputs": [],
   "source": [
    "for num in nums:\n",
    "    if num != 1 and num != 2 and num != 3:\n",
    "        return False\n",
    "        break\n",
    "    else:\n",
    "        return True"
   ]
  }
 ],
 "metadata": {
  "kernelspec": {
   "display_name": "Python 3",
   "language": "python",
   "name": "python3"
  },
  "language_info": {
   "codemirror_mode": {
    "name": "ipython",
    "version": 3
   },
   "file_extension": ".py",
   "mimetype": "text/x-python",
   "name": "python",
   "nbconvert_exporter": "python",
   "pygments_lexer": "ipython3",
   "version": "3.6.0"
  }
 },
 "nbformat": 4,
 "nbformat_minor": 2
}
