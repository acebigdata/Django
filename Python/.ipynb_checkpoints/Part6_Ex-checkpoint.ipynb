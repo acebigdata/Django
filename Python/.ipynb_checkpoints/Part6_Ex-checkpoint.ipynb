{
 "cells": [
  {
   "cell_type": "code",
   "execution_count": 8,
   "metadata": {
    "collapsed": true
   },
   "outputs": [],
   "source": [
    "###############\n",
    "## Problem 1 ##\n",
    "###############\n",
    "# Given the string:\n",
    "s = 'django'\n",
    "\n",
    "# Use indexing to print out the following:\n",
    "# 'd'\n",
    "\n",
    "# 'o'\n",
    "\n",
    "# 'djan'\n",
    "\n",
    "# 'jan'\n",
    "\n",
    "# 'go'\n",
    "\n",
    "# Bonus: Use indexing to reverse the string"
   ]
  },
  {
   "cell_type": "code",
   "execution_count": 9,
   "metadata": {
    "collapsed": false
   },
   "outputs": [
    {
     "name": "stdout",
     "output_type": "stream",
     "text": [
      "d\n",
      "o\n",
      "djan\n",
      "jan\n",
      "go\n",
      "ognajd\n"
     ]
    }
   ],
   "source": [
    "print(s[0])\n",
    "print(s[-1])\n",
    "print(s[:-2])\n",
    "print(s[1:-2])\n",
    "print(s[-2:])\n",
    "print(s[::-1])"
   ]
  },
  {
   "cell_type": "code",
   "execution_count": 10,
   "metadata": {
    "collapsed": true
   },
   "outputs": [],
   "source": [
    "###############\n",
    "## Problem 2 ##\n",
    "###############\n",
    "\n",
    "# Given this nested list:\n",
    "l = [3,7,[1,4,'hello']]\n",
    "# Reassign \"hello\" to be \"goodbye\""
   ]
  },
  {
   "cell_type": "code",
   "execution_count": 12,
   "metadata": {
    "collapsed": false
   },
   "outputs": [
    {
     "data": {
      "text/plain": [
       "[3, 7, [1, 4, 'goodbye']]"
      ]
     },
     "execution_count": 12,
     "metadata": {},
     "output_type": "execute_result"
    }
   ],
   "source": [
    "l[2][2] = \"goodbye\"\n",
    "l"
   ]
  },
  {
   "cell_type": "code",
   "execution_count": 13,
   "metadata": {
    "collapsed": true
   },
   "outputs": [],
   "source": [
    "###############\n",
    "## Problem 3 ##\n",
    "###############\n",
    "\n",
    "# Using keys and indexing, grab the 'hello' from the following dictionaries:\n",
    "\n",
    "d1 = {'simple_key':'hello'}\n",
    "\n",
    "d2 = {'k1':{'k2':'hello'}}\n",
    "\n",
    "d3 = {'k1':[{'nest_key':['this is deep',['hello']]}]}"
   ]
  },
  {
   "cell_type": "code",
   "execution_count": 23,
   "metadata": {
    "collapsed": false
   },
   "outputs": [
    {
     "name": "stdout",
     "output_type": "stream",
     "text": [
      "hello\n",
      "hello\n",
      "hello\n"
     ]
    }
   ],
   "source": [
    "print(d1[\"simple_key\"])\n",
    "print(d2[\"k1\"][\"k2\"])\n",
    "print(d3[\"k1\"][0][\"nest_key\"][1][0])"
   ]
  },
  {
   "cell_type": "code",
   "execution_count": 16,
   "metadata": {
    "collapsed": true
   },
   "outputs": [],
   "source": [
    "###############\n",
    "## Problem 4 ##\n",
    "###############\n",
    "\n",
    "# Use a set to find the unique values of the list below:\n",
    "mylist = [1,1,1,1,1,2,2,2,2,3,3,3,3]"
   ]
  },
  {
   "cell_type": "code",
   "execution_count": 18,
   "metadata": {
    "collapsed": false
   },
   "outputs": [
    {
     "data": {
      "text/plain": [
       "{1, 2, 3}"
      ]
     },
     "execution_count": 18,
     "metadata": {},
     "output_type": "execute_result"
    }
   ],
   "source": [
    "my_set = set(mylist)\n",
    "my_set"
   ]
  },
  {
   "cell_type": "code",
   "execution_count": 19,
   "metadata": {
    "collapsed": false
   },
   "outputs": [
    {
     "data": {
      "text/plain": [
       "\"Hello my dog's name is Sammy and he is 4 years old\""
      ]
     },
     "execution_count": 19,
     "metadata": {},
     "output_type": "execute_result"
    }
   ],
   "source": [
    "###############\n",
    "## Problem 5 ##\n",
    "###############\n",
    "\n",
    "# You are given two variables:\n",
    "age = 4\n",
    "name = \"Sammy\"\n",
    "\n",
    "# Use print formatting to print the following string:\n",
    "\"Hello my dog's name is Sammy and he is 4 years old\""
   ]
  },
  {
   "cell_type": "code",
   "execution_count": 20,
   "metadata": {
    "collapsed": false
   },
   "outputs": [
    {
     "data": {
      "text/plain": [
       "\"Hello my dot's name is Sammy and he is 4 years old\""
      ]
     },
     "execution_count": 20,
     "metadata": {},
     "output_type": "execute_result"
    }
   ],
   "source": [
    "\"Hello my dot's name is {a} and he is {b} years old\".format(a = name, b = age)"
   ]
  },
  {
   "cell_type": "code",
   "execution_count": 5,
   "metadata": {
    "collapsed": false
   },
   "outputs": [],
   "source": [
    "## Lambda Expression\n",
    "## Filter Function\n",
    "my_list = list(range(1,9))\n",
    "\n",
    "def evenBool(list):\n",
    "    bool_check = []\n",
    "    for num in my_list:\n",
    "        if num % 2 == 0:\n",
    "            bool_check.append(True)\n",
    "        else:\n",
    "            bool_check.append(False)\n",
    "    return bool_check"
   ]
  },
  {
   "cell_type": "code",
   "execution_count": 6,
   "metadata": {
    "collapsed": false
   },
   "outputs": [
    {
     "data": {
      "text/plain": [
       "[False, True, False, True, False, True, False, True]"
      ]
     },
     "execution_count": 6,
     "metadata": {},
     "output_type": "execute_result"
    }
   ],
   "source": [
    "evenBool(my_list)"
   ]
  },
  {
   "cell_type": "code",
   "execution_count": null,
   "metadata": {
    "collapsed": true
   },
   "outputs": [],
   "source": [
    "def evenBool_num(num):\n",
    "    return num % 2 == 0"
   ]
  }
 ],
 "metadata": {
  "kernelspec": {
   "display_name": "Python 3",
   "language": "python",
   "name": "python3"
  },
  "language_info": {
   "codemirror_mode": {
    "name": "ipython",
    "version": 3
   },
   "file_extension": ".py",
   "mimetype": "text/x-python",
   "name": "python",
   "nbconvert_exporter": "python",
   "pygments_lexer": "ipython3",
   "version": "3.6.0"
  }
 },
 "nbformat": 4,
 "nbformat_minor": 2
}
