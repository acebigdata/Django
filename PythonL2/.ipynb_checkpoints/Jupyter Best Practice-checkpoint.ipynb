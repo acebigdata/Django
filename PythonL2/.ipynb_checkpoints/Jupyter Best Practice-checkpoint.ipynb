{
 "cells": [
  {
   "cell_type": "markdown",
   "metadata": {},
   "source": [
    "# Intro to Jupyter\n",
    "First thing first, you can run Python code in Jupyter"
   ]
  },
  {
   "cell_type": "code",
   "execution_count": 1,
   "metadata": {
    "collapsed": false
   },
   "outputs": [
    {
     "name": "stdout",
     "output_type": "stream",
     "text": [
      "Hello, Wordl!\n"
     ]
    }
   ],
   "source": [
    "print(\"Hello, Wordl!\")"
   ]
  },
  {
   "cell_type": "markdown",
   "metadata": {},
   "source": [
    "Objects and functions stick around from cell to cell: can define a function"
   ]
  },
  {
   "cell_type": "code",
   "execution_count": 2,
   "metadata": {
    "collapsed": true
   },
   "outputs": [],
   "source": [
    "def do_stuff():\n",
    "    print(\"Hello World Again\")"
   ]
  },
  {
   "cell_type": "code",
   "execution_count": 3,
   "metadata": {
    "collapsed": false
   },
   "outputs": [
    {
     "data": {
      "text/plain": [
       "<function __main__.do_stuff>"
      ]
     },
     "execution_count": 3,
     "metadata": {},
     "output_type": "execute_result"
    }
   ],
   "source": [
    "do_stuff"
   ]
  },
  {
   "cell_type": "code",
   "execution_count": 4,
   "metadata": {
    "collapsed": false
   },
   "outputs": [
    {
     "name": "stdout",
     "output_type": "stream",
     "text": [
      "Hello World Again\n"
     ]
    }
   ],
   "source": [
    "do_stuff()"
   ]
  },
  {
   "cell_type": "code",
   "execution_count": 5,
   "metadata": {
    "collapsed": true
   },
   "outputs": [],
   "source": [
    "import requests\n",
    "requests?"
   ]
  },
  {
   "cell_type": "markdown",
   "metadata": {},
   "source": [
    "# Markdown Cell"
   ]
  },
  {
   "cell_type": "markdown",
   "metadata": {},
   "source": [
    "## Time for some Magic!"
   ]
  },
  {
   "cell_type": "code",
   "execution_count": 6,
   "metadata": {
    "collapsed": false
   },
   "outputs": [
    {
     "data": {
      "application/json": {
       "cell": {
        "!": "OSMagics",
        "HTML": "Other",
        "SVG": "Other",
        "bash": "Other",
        "capture": "ExecutionMagics",
        "cmd": "Other",
        "debug": "ExecutionMagics",
        "file": "Other",
        "html": "DisplayMagics",
        "javascript": "DisplayMagics",
        "js": "DisplayMagics",
        "latex": "DisplayMagics",
        "perl": "Other",
        "prun": "ExecutionMagics",
        "pypy": "Other",
        "python": "Other",
        "python2": "Other",
        "python3": "Other",
        "ruby": "Other",
        "script": "ScriptMagics",
        "sh": "Other",
        "svg": "DisplayMagics",
        "sx": "OSMagics",
        "system": "OSMagics",
        "time": "ExecutionMagics",
        "timeit": "ExecutionMagics",
        "writefile": "OSMagics"
       },
       "line": {
        "alias": "OSMagics",
        "alias_magic": "BasicMagics",
        "autocall": "AutoMagics",
        "automagic": "AutoMagics",
        "autosave": "KernelMagics",
        "bookmark": "OSMagics",
        "cd": "OSMagics",
        "clear": "KernelMagics",
        "cls": "KernelMagics",
        "colors": "BasicMagics",
        "config": "ConfigMagics",
        "connect_info": "KernelMagics",
        "copy": "Other",
        "ddir": "Other",
        "debug": "ExecutionMagics",
        "dhist": "OSMagics",
        "dirs": "OSMagics",
        "doctest_mode": "BasicMagics",
        "echo": "Other",
        "ed": "Other",
        "edit": "KernelMagics",
        "env": "OSMagics",
        "gui": "BasicMagics",
        "hist": "Other",
        "history": "HistoryMagics",
        "killbgscripts": "ScriptMagics",
        "ldir": "Other",
        "less": "KernelMagics",
        "load": "CodeMagics",
        "load_ext": "ExtensionMagics",
        "loadpy": "CodeMagics",
        "logoff": "LoggingMagics",
        "logon": "LoggingMagics",
        "logstart": "LoggingMagics",
        "logstate": "LoggingMagics",
        "logstop": "LoggingMagics",
        "ls": "Other",
        "lsmagic": "BasicMagics",
        "macro": "ExecutionMagics",
        "magic": "BasicMagics",
        "matplotlib": "PylabMagics",
        "mkdir": "Other",
        "more": "KernelMagics",
        "notebook": "BasicMagics",
        "page": "BasicMagics",
        "pastebin": "CodeMagics",
        "pdb": "ExecutionMagics",
        "pdef": "NamespaceMagics",
        "pdoc": "NamespaceMagics",
        "pfile": "NamespaceMagics",
        "pinfo": "NamespaceMagics",
        "pinfo2": "NamespaceMagics",
        "popd": "OSMagics",
        "pprint": "BasicMagics",
        "precision": "BasicMagics",
        "profile": "BasicMagics",
        "prun": "ExecutionMagics",
        "psearch": "NamespaceMagics",
        "psource": "NamespaceMagics",
        "pushd": "OSMagics",
        "pwd": "OSMagics",
        "pycat": "OSMagics",
        "pylab": "PylabMagics",
        "qtconsole": "KernelMagics",
        "quickref": "BasicMagics",
        "recall": "HistoryMagics",
        "rehashx": "OSMagics",
        "reload_ext": "ExtensionMagics",
        "ren": "Other",
        "rep": "Other",
        "rerun": "HistoryMagics",
        "reset": "NamespaceMagics",
        "reset_selective": "NamespaceMagics",
        "rmdir": "Other",
        "run": "ExecutionMagics",
        "save": "CodeMagics",
        "sc": "OSMagics",
        "set_env": "OSMagics",
        "store": "StoreMagics",
        "sx": "OSMagics",
        "system": "OSMagics",
        "tb": "ExecutionMagics",
        "time": "ExecutionMagics",
        "timeit": "ExecutionMagics",
        "unalias": "OSMagics",
        "unload_ext": "ExtensionMagics",
        "who": "NamespaceMagics",
        "who_ls": "NamespaceMagics",
        "whos": "NamespaceMagics",
        "xdel": "NamespaceMagics",
        "xmode": "BasicMagics"
       }
      },
      "text/plain": [
       "Available line magics:\n",
       "%alias  %alias_magic  %autocall  %automagic  %autosave  %bookmark  %cd  %clear  %cls  %colors  %config  %connect_info  %copy  %ddir  %debug  %dhist  %dirs  %doctest_mode  %echo  %ed  %edit  %env  %gui  %hist  %history  %killbgscripts  %ldir  %less  %load  %load_ext  %loadpy  %logoff  %logon  %logstart  %logstate  %logstop  %ls  %lsmagic  %macro  %magic  %matplotlib  %mkdir  %more  %notebook  %page  %pastebin  %pdb  %pdef  %pdoc  %pfile  %pinfo  %pinfo2  %popd  %pprint  %precision  %profile  %prun  %psearch  %psource  %pushd  %pwd  %pycat  %pylab  %qtconsole  %quickref  %recall  %rehashx  %reload_ext  %ren  %rep  %rerun  %reset  %reset_selective  %rmdir  %run  %save  %sc  %set_env  %store  %sx  %system  %tb  %time  %timeit  %unalias  %unload_ext  %who  %who_ls  %whos  %xdel  %xmode\n",
       "\n",
       "Available cell magics:\n",
       "%%!  %%HTML  %%SVG  %%bash  %%capture  %%cmd  %%debug  %%file  %%html  %%javascript  %%js  %%latex  %%perl  %%prun  %%pypy  %%python  %%python2  %%python3  %%ruby  %%script  %%sh  %%svg  %%sx  %%system  %%time  %%timeit  %%writefile\n",
       "\n",
       "Automagic is ON, % prefix IS NOT needed for line magics."
      ]
     },
     "execution_count": 6,
     "metadata": {},
     "output_type": "execute_result"
    }
   ],
   "source": [
    "%lsmagic"
   ]
  },
  {
   "cell_type": "code",
   "execution_count": 8,
   "metadata": {
    "collapsed": false
   },
   "outputs": [
    {
     "name": "stdout",
     "output_type": "stream",
     "text": [
      " Volume in drive C has no label.\n",
      " Volume Serial Number is 36F2-291D\n",
      "\n",
      " Directory of C:\\Django\\PythonL2\n",
      "\n",
      "03/09/2017  04:11 PM    <DIR>          .\n",
      "03/09/2017  04:11 PM    <DIR>          ..\n",
      "03/09/2017  04:00 PM    <DIR>          .ipynb_checkpoints\n",
      "03/09/2017  04:11 PM            24,905 Jupyter Best Practice.ipynb\n",
      "03/09/2017  03:00 PM             4,413 Object Oriented Programming Python.ipynb\n",
      "02/28/2017  02:08 PM             1,060 Scope.ipynb\n",
      "03/03/2017  11:50 AM             1,184 sqlite_python.py\n",
      "03/02/2017  02:14 PM            12,288 test.db\n",
      "               5 File(s)         43,850 bytes\n",
      "               3 Dir(s)  167,035,875,328 bytes free\n"
     ]
    }
   ],
   "source": [
    "%ls"
   ]
  },
  {
   "cell_type": "code",
   "execution_count": 9,
   "metadata": {
    "collapsed": true
   },
   "outputs": [],
   "source": [
    "%magic"
   ]
  },
  {
   "cell_type": "code",
   "execution_count": 10,
   "metadata": {
    "collapsed": false
   },
   "outputs": [
    {
     "name": "stdout",
     "output_type": "stream",
     "text": [
      "Do you have time?\n",
      "Wall time: 0 ns\n"
     ]
    }
   ],
   "source": [
    "%time print(\"Do you have time?\")"
   ]
  },
  {
   "cell_type": "code",
   "execution_count": 11,
   "metadata": {
    "collapsed": false
   },
   "outputs": [
    {
     "name": "stdout",
     "output_type": "stream",
     "text": [
      "1000000 loops, best of 3: 717 ns per loop\n"
     ]
    }
   ],
   "source": [
    "%%timeit\n",
    "x = 0\n",
    "for i in range(10): x += i"
   ]
  },
  {
   "cell_type": "code",
   "execution_count": 12,
   "metadata": {
    "collapsed": false
   },
   "outputs": [
    {
     "name": "stdout",
     "output_type": "stream",
     "text": [
      "<!DOCTYPE HTML>\n",
      "<html>\n",
      "\n",
      "<head>\n",
      "    <meta charset=\"utf-8\">\n",
      "\n",
      "    <title>Jupyter Notebook</title>\n",
      "    <link rel=\"shortcut icon\" type=\"image/x-icon\" href=\"/static/base/images/favicon.ico?v=97c6417ed01bdc0ae3ef32ae4894fd03\">\n",
      "    <meta http-equiv=\"X-UA-Compatible\" content=\"IE=edge\" />\n",
      "    <link rel=\"stylesheet\" href=\"/static/components/jquery-ui/themes/smoothness/jquery-ui.min.css?v=9b2c8d3489227115310662a343fce11c\" type=\"text/css\" />\n",
      "    <link rel=\"stylesheet\" href=\"/static/components/jquery-typeahead/dist/jquery.typeahead.min.css?v=7afb461de36accb1aa133a1710f5bc56\" type=\"text/css\" />\n",
      "    <meta name=\"viewport\" content=\"width=device-width, initial-scale=1.0\">\n",
      "    \n",
      "    \n",
      "\n",
      "    <link rel=\"stylesheet\" href=\"/static/style/style.min.css?v=974839a888beb55bbba87883fafd90fa\" type=\"text/css\"/>\n",
      "    \n",
      "<style type=\"text/css\">\n",
      "/* disable initial hide */\n",
      "div#header, div#site {\n",
      "    display: block;\n",
      "}\n",
      "</style>\n",
      "\n",
      "    <link rel=\"stylesheet\" href=\"/custom/custom.css\" type=\"text/css\" />\n",
      "    <script src=\"/static/components/es6-promise/promise.min.js?v=f004a16cb856e0ff11781d01ec5ca8fe\" type=\"text/javascript\" charset=\"utf-8\"></script>\n",
      "    <script src=\"/static/components/requirejs/require.js?v=6da8be361b9ee26c5e721e76c6d4afce\" type=\"text/javascript\" charset=\"utf-8\"></script>\n",
      "    <script>\n",
      "      require.config({\n",
      "          \n",
      "          urlArgs: \"v=20170309141831\",\n",
      "          \n",
      "          baseUrl: '/static/',\n",
      "          paths: {\n",
      "            'auth/js/main': 'auth/js/main.min',\n",
      "            custom : '/custom',\n",
      "            nbextensions : '/nbextensions',\n",
      "            kernelspecs : '/kernelspecs',\n",
      "            underscore : 'components/underscore/underscore-min',\n",
      "            backbone : 'components/backbone/backbone-min',\n",
      "            jquery: 'components/jquery/jquery.min',\n",
      "            bootstrap: 'components/bootstrap/js/bootstrap.min',\n",
      "            bootstraptour: 'components/bootstrap-tour/build/js/bootstrap-tour.min',\n",
      "            'jquery-ui': 'components/jquery-ui/ui/minified/jquery-ui.min',\n",
      "            moment: 'components/moment/moment',\n",
      "            codemirror: 'components/codemirror',\n",
      "            termjs: 'components/xterm.js/dist/xterm',\n",
      "            typeahead: 'components/jquery-typeahead/dist/jquery.typeahead.min',\n",
      "          },\n",
      "\t  map: { // for backward compatibility\n",
      "\t    \"*\": {\n",
      "\t\t\"jqueryui\": \"jquery-ui\",\n",
      "\t    }\n",
      "\t  },\n",
      "          shim: {\n",
      "            typeahead: {\n",
      "              deps: [\"jquery\"],\n",
      "              exports: \"typeahead\"\n",
      "            },\n",
      "            underscore: {\n",
      "              exports: '_'\n",
      "            },\n",
      "            backbone: {\n",
      "              deps: [\"underscore\", \"jquery\"],\n",
      "              exports: \"Backbone\"\n",
      "            },\n",
      "            bootstrap: {\n",
      "              deps: [\"jquery\"],\n",
      "              exports: \"bootstrap\"\n",
      "            },\n",
      "            bootstraptour: {\n",
      "              deps: [\"bootstrap\"],\n",
      "              exports: \"Tour\"\n",
      "            },\n",
      "            \"jquery-ui\": {\n",
      "              deps: [\"jquery\"],\n",
      "              exports: \"$\"\n",
      "            }\n",
      "          },\n",
      "          waitSeconds: 30,\n",
      "      });\n",
      "\n",
      "      require.config({\n",
      "          map: {\n",
      "              '*':{\n",
      "                'contents': 'services/contents',\n",
      "              }\n",
      "          }\n",
      "      });\n",
      "\n",
      "      define(\"bootstrap\", function () {\n",
      "          return window.$;\n",
      "      });\n",
      "\n",
      "      define(\"jquery\", function () {\n",
      "          return window.$;\n",
      "      });\n",
      "\n",
      "      define(\"jqueryui\", function () {\n",
      "          return window.$;\n",
      "      });\n",
      "\n",
      "      define(\"jquery-ui\", function () {\n",
      "          return window.$;\n",
      "      });\n",
      "      // error-catching custom.js shim.\n",
      "      define(\"custom\", function (require, exports, module) {\n",
      "          try {\n",
      "              var custom = require('custom/custom');\n",
      "              console.debug('loaded custom.js');\n",
      "              return custom;\n",
      "          } catch (e) {\n",
      "              console.error(\"error loading custom.js\", e);\n",
      "              return {};\n",
      "          }\n",
      "      })\n",
      "    </script>\n",
      "\n",
      "    \n",
      "    \n",
      "\n",
      "</head>\n",
      "\n",
      "<body class=\"\"\n",
      " \n",
      "  \n",
      " \n",
      ">\n",
      "\n",
      "<noscript>\n",
      "    <div id='noscript'>\n",
      "      Jupyter Notebook requires JavaScript.<br>\n",
      "      Please enable it to proceed.\n",
      "  </div>\n",
      "</noscript>\n",
      "\n",
      "<div id=\"header\">\n",
      "  <div id=\"header-container\" class=\"container\">\n",
      "  <div id=\"ipython_notebook\" class=\"nav navbar-brand pull-left\"><a href=\"/tree\" title='dashboard'><img src='/static/base/images/logo.png?v=641991992878ee24c6f3826e81054a0f' alt='Jupyter Notebook'/></a></div>\n",
      "\n",
      "  \n",
      "  \n",
      "  \n",
      "\n",
      "\n",
      "  \n",
      "\n",
      "  \n",
      "  \n",
      "  </div>\n",
      "  <div class=\"header-bar\"></div>\n",
      "\n",
      "  \n",
      "  \n",
      "</div>\n",
      "\n",
      "<div id=\"site\">\n",
      "\n",
      "\n",
      "<div class=\"error\">\n",
      "    \n",
      "    <h1>404 : Not Found</h1>\n",
      "    \n",
      "    \n",
      "<p>You are requesting a page that does not exist!</p>\n",
      "\n",
      "</header>\n",
      "\n",
      "\n",
      "</div>\n",
      "\n",
      "\n",
      "\n",
      "\n",
      "\n",
      "\n",
      "\n",
      "</body>\n",
      "\n",
      "</html>"
     ]
    },
    {
     "name": "stderr",
     "output_type": "stream",
     "text": [
      "  % Total    % Received % Xferd  Average Speed   Time    Time     Time  Current\r\n",
      "                                 Dload  Upload   Total   Spent    Left  Speed\r\n",
      "\r",
      "  0     0    0     0    0     0      0      0 --:--:-- --:--:-- --:--:--     0\r",
      "100  4552  100  4552    0     0   277k      0 --:--:-- --:--:-- --:--:--  277k\r\n"
     ]
    }
   ],
   "source": [
    "%%bash\n",
    "\n",
    "curl http://localhost:8888/get"
   ]
  },
  {
   "cell_type": "markdown",
   "metadata": {},
   "source": [
    "## Third Party Magic"
   ]
  },
  {
   "cell_type": "code",
   "execution_count": 29,
   "metadata": {
    "collapsed": false
   },
   "outputs": [
    {
     "name": "stdout",
     "output_type": "stream",
     "text": [
      "The sql extension is already loaded. To reload it, use:\n",
      "  %reload_ext sql\n"
     ]
    }
   ],
   "source": [
    "%load_ext sql"
   ]
  },
  {
   "cell_type": "code",
   "execution_count": 30,
   "metadata": {
    "collapsed": false
   },
   "outputs": [
    {
     "data": {
      "text/plain": [
       "'Connected: None@None'"
      ]
     },
     "execution_count": 30,
     "metadata": {},
     "output_type": "execute_result"
    }
   ],
   "source": [
    "%sql sqlite://"
   ]
  },
  {
   "cell_type": "code",
   "execution_count": 31,
   "metadata": {
    "collapsed": false
   },
   "outputs": [
    {
     "name": "stdout",
     "output_type": "stream",
     "text": [
      "Done.\n",
      "0 rows affected.\n",
      "1 rows affected.\n",
      "1 rows affected.\n",
      "1 rows affected.\n",
      "1 rows affected.\n",
      "1 rows affected.\n",
      "1 rows affected.\n",
      "1 rows affected.\n",
      "1 rows affected.\n",
      "1 rows affected.\n",
      "1 rows affected.\n",
      "1 rows affected.\n",
      "1 rows affected.\n",
      "1 rows affected.\n"
     ]
    },
    {
     "data": {
      "text/plain": [
       "[]"
      ]
     },
     "execution_count": 31,
     "metadata": {},
     "output_type": "execute_result"
    }
   ],
   "source": [
    "%%sql\n",
    "DROP TABLE IF EXISTS Employees;\n",
    "CREATE TABLE Employees(ID INTEGER PRIMARY KEY AUTOINCREMENT NOT NULL, Fname TEXT NOT NULL, Lname TEXT NOT NULL, Age INTEGER NOT NULL, Address TEXT, Salary REAL, HireDate TEXT, 'Profile' TEXT);\n",
    "INSERT INTO \"Employees\" VALUES(1,'Isaac','Zhou',32,'Hawaii',5000000.0,'2017-03-02','acebigdata');\n",
    "INSERT INTO \"Employees\" VALUES(3,'Isaac','Zhou',32,'New York, NY',5000000.0,'2017-03-02',NULL);\n",
    "INSERT INTO \"Employees\" VALUES(4,'Isaac','Zhou',32,'New York, NY',5000000.0,'2017-03-02',NULL);\n",
    "INSERT INTO \"Employees\" VALUES(5,'Isaac','Zhou',32,'New York, NY',5000000.0,'2017-03-02',NULL);\n",
    "INSERT INTO \"Employees\" VALUES(6,'Isaac','Zhou',32,'New York, NY',5000000.0,'2017-03-02',NULL);\n",
    "INSERT INTO \"Employees\" VALUES(7,'Isaac','Zhou',32,'New York, NY',5000000.0,'2017-03-02',NULL);\n",
    "INSERT INTO \"Employees\" VALUES(8,'Isaac','Zhou',32,'New York, NY',5000000.0,'2017-03-02',NULL);\n",
    "INSERT INTO \"Employees\" VALUES(9,'Isaac','Zhou',32,'New York, NY',5000000.0,'2017-03-02',NULL);\n",
    "INSERT INTO \"Employees\" VALUES(10,'Isaac','Zhou',32,'New York, NY',5000000.0,'2017-03-02',NULL);\n",
    "INSERT INTO \"Employees\" VALUES(11,'Isaac','Zhou',32,'New York, NY',5000000.0,'2017-03-02',NULL);\n",
    "INSERT INTO \"Employees\" VALUES(12,'Isaac','Zhou',32,'New York, NY',5000000.0,'2017-03-02',NULL);\n",
    "INSERT INTO \"Employees\" VALUES(13,'Isaac','Zhou',32,'New York, NY',5000000.0,'2017-03-02',NULL);\n",
    "INSERT INTO \"Employees\" VALUES(14,'Isaac','Zhou',32,'New York, NY',5000000.0,'2017-03-02',NULL);"
   ]
  },
  {
   "cell_type": "code",
   "execution_count": 32,
   "metadata": {
    "collapsed": false
   },
   "outputs": [
    {
     "name": "stdout",
     "output_type": "stream",
     "text": [
      "Done.\n"
     ]
    },
    {
     "data": {
      "text/html": [
       "<table>\n",
       "    <tr>\n",
       "        <th>ID</th>\n",
       "        <th>Fname</th>\n",
       "        <th>Lname</th>\n",
       "        <th>Age</th>\n",
       "        <th>Address</th>\n",
       "        <th>Salary</th>\n",
       "        <th>HireDate</th>\n",
       "        <th>Profile</th>\n",
       "    </tr>\n",
       "    <tr>\n",
       "        <td>1</td>\n",
       "        <td>Isaac</td>\n",
       "        <td>Zhou</td>\n",
       "        <td>32</td>\n",
       "        <td>Hawaii</td>\n",
       "        <td>5000000.0</td>\n",
       "        <td>2017-03-02</td>\n",
       "        <td>acebigdata</td>\n",
       "    </tr>\n",
       "    <tr>\n",
       "        <td>3</td>\n",
       "        <td>Isaac</td>\n",
       "        <td>Zhou</td>\n",
       "        <td>32</td>\n",
       "        <td>New York, NY</td>\n",
       "        <td>5000000.0</td>\n",
       "        <td>2017-03-02</td>\n",
       "        <td>None</td>\n",
       "    </tr>\n",
       "    <tr>\n",
       "        <td>4</td>\n",
       "        <td>Isaac</td>\n",
       "        <td>Zhou</td>\n",
       "        <td>32</td>\n",
       "        <td>New York, NY</td>\n",
       "        <td>5000000.0</td>\n",
       "        <td>2017-03-02</td>\n",
       "        <td>None</td>\n",
       "    </tr>\n",
       "    <tr>\n",
       "        <td>5</td>\n",
       "        <td>Isaac</td>\n",
       "        <td>Zhou</td>\n",
       "        <td>32</td>\n",
       "        <td>New York, NY</td>\n",
       "        <td>5000000.0</td>\n",
       "        <td>2017-03-02</td>\n",
       "        <td>None</td>\n",
       "    </tr>\n",
       "    <tr>\n",
       "        <td>6</td>\n",
       "        <td>Isaac</td>\n",
       "        <td>Zhou</td>\n",
       "        <td>32</td>\n",
       "        <td>New York, NY</td>\n",
       "        <td>5000000.0</td>\n",
       "        <td>2017-03-02</td>\n",
       "        <td>None</td>\n",
       "    </tr>\n",
       "    <tr>\n",
       "        <td>7</td>\n",
       "        <td>Isaac</td>\n",
       "        <td>Zhou</td>\n",
       "        <td>32</td>\n",
       "        <td>New York, NY</td>\n",
       "        <td>5000000.0</td>\n",
       "        <td>2017-03-02</td>\n",
       "        <td>None</td>\n",
       "    </tr>\n",
       "    <tr>\n",
       "        <td>8</td>\n",
       "        <td>Isaac</td>\n",
       "        <td>Zhou</td>\n",
       "        <td>32</td>\n",
       "        <td>New York, NY</td>\n",
       "        <td>5000000.0</td>\n",
       "        <td>2017-03-02</td>\n",
       "        <td>None</td>\n",
       "    </tr>\n",
       "    <tr>\n",
       "        <td>9</td>\n",
       "        <td>Isaac</td>\n",
       "        <td>Zhou</td>\n",
       "        <td>32</td>\n",
       "        <td>New York, NY</td>\n",
       "        <td>5000000.0</td>\n",
       "        <td>2017-03-02</td>\n",
       "        <td>None</td>\n",
       "    </tr>\n",
       "    <tr>\n",
       "        <td>10</td>\n",
       "        <td>Isaac</td>\n",
       "        <td>Zhou</td>\n",
       "        <td>32</td>\n",
       "        <td>New York, NY</td>\n",
       "        <td>5000000.0</td>\n",
       "        <td>2017-03-02</td>\n",
       "        <td>None</td>\n",
       "    </tr>\n",
       "    <tr>\n",
       "        <td>11</td>\n",
       "        <td>Isaac</td>\n",
       "        <td>Zhou</td>\n",
       "        <td>32</td>\n",
       "        <td>New York, NY</td>\n",
       "        <td>5000000.0</td>\n",
       "        <td>2017-03-02</td>\n",
       "        <td>None</td>\n",
       "    </tr>\n",
       "    <tr>\n",
       "        <td>12</td>\n",
       "        <td>Isaac</td>\n",
       "        <td>Zhou</td>\n",
       "        <td>32</td>\n",
       "        <td>New York, NY</td>\n",
       "        <td>5000000.0</td>\n",
       "        <td>2017-03-02</td>\n",
       "        <td>None</td>\n",
       "    </tr>\n",
       "    <tr>\n",
       "        <td>13</td>\n",
       "        <td>Isaac</td>\n",
       "        <td>Zhou</td>\n",
       "        <td>32</td>\n",
       "        <td>New York, NY</td>\n",
       "        <td>5000000.0</td>\n",
       "        <td>2017-03-02</td>\n",
       "        <td>None</td>\n",
       "    </tr>\n",
       "    <tr>\n",
       "        <td>14</td>\n",
       "        <td>Isaac</td>\n",
       "        <td>Zhou</td>\n",
       "        <td>32</td>\n",
       "        <td>New York, NY</td>\n",
       "        <td>5000000.0</td>\n",
       "        <td>2017-03-02</td>\n",
       "        <td>None</td>\n",
       "    </tr>\n",
       "</table>"
      ],
      "text/plain": [
       "[(1, 'Isaac', 'Zhou', 32, 'Hawaii', 5000000.0, '2017-03-02', 'acebigdata'),\n",
       " (3, 'Isaac', 'Zhou', 32, 'New York, NY', 5000000.0, '2017-03-02', None),\n",
       " (4, 'Isaac', 'Zhou', 32, 'New York, NY', 5000000.0, '2017-03-02', None),\n",
       " (5, 'Isaac', 'Zhou', 32, 'New York, NY', 5000000.0, '2017-03-02', None),\n",
       " (6, 'Isaac', 'Zhou', 32, 'New York, NY', 5000000.0, '2017-03-02', None),\n",
       " (7, 'Isaac', 'Zhou', 32, 'New York, NY', 5000000.0, '2017-03-02', None),\n",
       " (8, 'Isaac', 'Zhou', 32, 'New York, NY', 5000000.0, '2017-03-02', None),\n",
       " (9, 'Isaac', 'Zhou', 32, 'New York, NY', 5000000.0, '2017-03-02', None),\n",
       " (10, 'Isaac', 'Zhou', 32, 'New York, NY', 5000000.0, '2017-03-02', None),\n",
       " (11, 'Isaac', 'Zhou', 32, 'New York, NY', 5000000.0, '2017-03-02', None),\n",
       " (12, 'Isaac', 'Zhou', 32, 'New York, NY', 5000000.0, '2017-03-02', None),\n",
       " (13, 'Isaac', 'Zhou', 32, 'New York, NY', 5000000.0, '2017-03-02', None),\n",
       " (14, 'Isaac', 'Zhou', 32, 'New York, NY', 5000000.0, '2017-03-02', None)]"
      ]
     },
     "execution_count": 32,
     "metadata": {},
     "output_type": "execute_result"
    }
   ],
   "source": [
    "%sql SELECT * FROM Employees"
   ]
  },
  {
   "cell_type": "code",
   "execution_count": null,
   "metadata": {
    "collapsed": true
   },
   "outputs": [],
   "source": []
  }
 ],
 "metadata": {
  "kernelspec": {
   "display_name": "Python 3",
   "language": "python",
   "name": "python3"
  },
  "language_info": {
   "codemirror_mode": {
    "name": "ipython",
    "version": 3
   },
   "file_extension": ".py",
   "mimetype": "text/x-python",
   "name": "python",
   "nbconvert_exporter": "python",
   "pygments_lexer": "ipython3",
   "version": "3.6.0"
  }
 },
 "nbformat": 4,
 "nbformat_minor": 2
}
